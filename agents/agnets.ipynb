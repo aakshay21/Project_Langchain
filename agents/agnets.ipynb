{
 "cells": [
  {
   "cell_type": "code",
   "execution_count": 1,
   "id": "ad2c883a",
   "metadata": {},
   "outputs": [
    {
     "name": "stdout",
     "output_type": "stream",
     "text": [
      "Requirement already satisfied: arxiv in /Users/akshayjoshi/Desktop/Project_Langchain/.venv/lib/python3.10/site-packages (2.2.0)\n",
      "Requirement already satisfied: feedparser~=6.0.10 in /Users/akshayjoshi/Desktop/Project_Langchain/.venv/lib/python3.10/site-packages (from arxiv) (6.0.11)\n",
      "Requirement already satisfied: requests~=2.32.0 in /Users/akshayjoshi/Desktop/Project_Langchain/.venv/lib/python3.10/site-packages (from arxiv) (2.32.4)\n",
      "Requirement already satisfied: sgmllib3k in /Users/akshayjoshi/Desktop/Project_Langchain/.venv/lib/python3.10/site-packages (from feedparser~=6.0.10->arxiv) (1.0.0)\n",
      "Requirement already satisfied: charset_normalizer<4,>=2 in /Users/akshayjoshi/Desktop/Project_Langchain/.venv/lib/python3.10/site-packages (from requests~=2.32.0->arxiv) (3.4.2)\n",
      "Requirement already satisfied: idna<4,>=2.5 in /Users/akshayjoshi/Desktop/Project_Langchain/.venv/lib/python3.10/site-packages (from requests~=2.32.0->arxiv) (3.10)\n",
      "Requirement already satisfied: urllib3<3,>=1.21.1 in /Users/akshayjoshi/Desktop/Project_Langchain/.venv/lib/python3.10/site-packages (from requests~=2.32.0->arxiv) (2.5.0)\n",
      "Requirement already satisfied: certifi>=2017.4.17 in /Users/akshayjoshi/Desktop/Project_Langchain/.venv/lib/python3.10/site-packages (from requests~=2.32.0->arxiv) (2025.7.14)\n",
      "\n",
      "\u001b[1m[\u001b[0m\u001b[34;49mnotice\u001b[0m\u001b[1;39;49m]\u001b[0m\u001b[39;49m A new release of pip is available: \u001b[0m\u001b[31;49m25.1.1\u001b[0m\u001b[39;49m -> \u001b[0m\u001b[32;49m25.2\u001b[0m\n",
      "\u001b[1m[\u001b[0m\u001b[34;49mnotice\u001b[0m\u001b[1;39;49m]\u001b[0m\u001b[39;49m To update, run: \u001b[0m\u001b[32;49mpip install --upgrade pip\u001b[0m\n"
     ]
    }
   ],
   "source": [
    "##Multiple Data Sources With Langchain\n",
    "!pip install arxiv"
   ]
  },
  {
   "cell_type": "code",
   "execution_count": 2,
   "id": "41205ad3",
   "metadata": {},
   "outputs": [],
   "source": [
    "from langchain_community.tools import WikipediaQueryRun\n",
    "from langchain_community.utilities import WikipediaAPIWrapper"
   ]
  },
  {
   "cell_type": "code",
   "execution_count": 3,
   "id": "132cdcf9",
   "metadata": {},
   "outputs": [],
   "source": [
    "api_wrapper = WikipediaAPIWrapper(top_k_results=1, doc_content_chars_max=200)\n",
    "wiki = WikipediaQueryRun(api_wrapper=api_wrapper)"
   ]
  },
  {
   "cell_type": "code",
   "execution_count": 4,
   "id": "a0632794",
   "metadata": {},
   "outputs": [
    {
     "data": {
      "text/plain": [
       "WikipediaQueryRun(api_wrapper=WikipediaAPIWrapper(wiki_client=<module 'wikipedia' from '/Users/akshayjoshi/Desktop/Project_Langchain/.venv/lib/python3.10/site-packages/wikipedia/__init__.py'>, top_k_results=1, lang='en', load_all_available_meta=False, doc_content_chars_max=200))"
      ]
     },
     "execution_count": 4,
     "metadata": {},
     "output_type": "execute_result"
    }
   ],
   "source": [
    "wiki"
   ]
  },
  {
   "cell_type": "code",
   "execution_count": 5,
   "id": "234edf4c",
   "metadata": {},
   "outputs": [
    {
     "data": {
      "text/plain": [
       "'wikipedia'"
      ]
     },
     "execution_count": 5,
     "metadata": {},
     "output_type": "execute_result"
    }
   ],
   "source": [
    "wiki.name"
   ]
  },
  {
   "cell_type": "code",
   "execution_count": 6,
   "id": "ded6e16c",
   "metadata": {},
   "outputs": [],
   "source": [
    "##loading\n",
    "from langchain_community.document_loaders import WebBaseLoader\n",
    "from langchain_community.vectorstores import FAISS\n",
    "from langchain_text_splitters import RecursiveCharacterTextSplitter\n",
    "from langchain_community.embeddings import OllamaEmbeddings"
   ]
  },
  {
   "cell_type": "code",
   "execution_count": 7,
   "id": "af54695c",
   "metadata": {},
   "outputs": [
    {
     "data": {
      "text/plain": [
       "VectorStoreRetriever(tags=['FAISS', 'OllamaEmbeddings'], vectorstore=<langchain_community.vectorstores.faiss.FAISS object at 0x11b8a0370>)"
      ]
     },
     "execution_count": 7,
     "metadata": {},
     "output_type": "execute_result"
    }
   ],
   "source": [
    "loader = WebBaseLoader(\"https://docs.smith.langchain.com/\")\n",
    "docs = loader.load()\n",
    "documents = RecursiveCharacterTextSplitter(chunk_size = 1000, chunk_overlap = 200).split_documents(docs)\n",
    "vectordb = FAISS.from_documents(documents,OllamaEmbeddings())\n",
    "retriever = vectordb.as_retriever()\n",
    "retriever"
   ]
  },
  {
   "cell_type": "code",
   "execution_count": 8,
   "id": "6f6044db",
   "metadata": {},
   "outputs": [],
   "source": [
    "from langchain.tools.retriever import create_retriever_tool\n",
    "retrieval_tool = create_retriever_tool(retriever, \"langsmith_search\",\n",
    "                      \"Search for Information about LangSmith. For any questions about LangSmith, you must use this tool.\")"
   ]
  },
  {
   "cell_type": "code",
   "execution_count": 9,
   "id": "ae5f0f5c",
   "metadata": {},
   "outputs": [
    {
     "data": {
      "text/plain": [
       "'langsmith_search'"
      ]
     },
     "execution_count": 9,
     "metadata": {},
     "output_type": "execute_result"
    }
   ],
   "source": [
    "retrieval_tool.name"
   ]
  },
  {
   "cell_type": "code",
   "execution_count": 10,
   "id": "8e72b36b",
   "metadata": {},
   "outputs": [
    {
     "data": {
      "text/plain": [
       "'arxiv'"
      ]
     },
     "execution_count": 10,
     "metadata": {},
     "output_type": "execute_result"
    }
   ],
   "source": [
    "##Arxiv Tool\n",
    "from langchain_community.utilities import ArxivAPIWrapper\n",
    "from langchain_community.tools import ArxivQueryRun\n",
    "\n",
    "arxiv_wrapper = ArxivAPIWrapper(top_k_results=1, doc_content_chars_max=200)\n",
    "arxiv = ArxivQueryRun(api_wrapper=arxiv_wrapper)\n",
    "arxiv.name"
   ]
  },
  {
   "cell_type": "code",
   "execution_count": 11,
   "id": "9cef071b",
   "metadata": {},
   "outputs": [],
   "source": [
    "tools = [wiki, retrieval_tool, arxiv]"
   ]
  },
  {
   "cell_type": "code",
   "execution_count": 12,
   "id": "0203ea15",
   "metadata": {},
   "outputs": [
    {
     "data": {
      "text/plain": [
       "[WikipediaQueryRun(api_wrapper=WikipediaAPIWrapper(wiki_client=<module 'wikipedia' from '/Users/akshayjoshi/Desktop/Project_Langchain/.venv/lib/python3.10/site-packages/wikipedia/__init__.py'>, top_k_results=1, lang='en', load_all_available_meta=False, doc_content_chars_max=200)),\n",
       " Tool(name='langsmith_search', description='Search for Information about LangSmith. For any questions about LangSmith, you must use this tool.', args_schema=<class 'langchain.tools.retriever.RetrieverInput'>, func=functools.partial(<function _get_relevant_documents at 0x11b89bd00>, retriever=VectorStoreRetriever(tags=['FAISS', 'OllamaEmbeddings'], vectorstore=<langchain_community.vectorstores.faiss.FAISS object at 0x11b8a0370>), document_prompt=PromptTemplate(input_variables=['page_content'], template='{page_content}'), document_separator='\\n\\n'), coroutine=functools.partial(<function _aget_relevant_documents at 0x11b89bd90>, retriever=VectorStoreRetriever(tags=['FAISS', 'OllamaEmbeddings'], vectorstore=<langchain_community.vectorstores.faiss.FAISS object at 0x11b8a0370>), document_prompt=PromptTemplate(input_variables=['page_content'], template='{page_content}'), document_separator='\\n\\n')),\n",
       " ArxivQueryRun(api_wrapper=ArxivAPIWrapper(arxiv_search=<class 'arxiv.Search'>, arxiv_exceptions=(<class 'arxiv.ArxivError'>, <class 'arxiv.UnexpectedEmptyPageError'>, <class 'arxiv.HTTPError'>), top_k_results=1, ARXIV_MAX_QUERY_LENGTH=300, continue_on_failure=False, load_max_docs=100, load_all_available_meta=False, doc_content_chars_max=200, arxiv_result=<class 'arxiv.Result'>))]"
      ]
     },
     "execution_count": 12,
     "metadata": {},
     "output_type": "execute_result"
    }
   ],
   "source": [
    "tools"
   ]
  },
  {
   "cell_type": "code",
   "execution_count": 13,
   "id": "ab8f943f",
   "metadata": {},
   "outputs": [],
   "source": [
    "from dotenv import load_dotenv\n",
    "from langchain_community.chat_models import ChatOllama\n",
    "load_dotenv()\n",
    "\n",
    "llm = ChatOllama(model=\"llama2\")\n"
   ]
  },
  {
   "cell_type": "code",
   "execution_count": 14,
   "id": "a3c5a1e0",
   "metadata": {},
   "outputs": [
    {
     "name": "stderr",
     "output_type": "stream",
     "text": [
      "/Users/akshayjoshi/Desktop/Project_Langchain/.venv/lib/python3.10/site-packages/langchain/hub.py:86: DeprecationWarning: The `langchainhub sdk` is deprecated.\n",
      "Please use the `langsmith sdk` instead:\n",
      "  pip install langsmith\n",
      "Use the `pull_prompt` method.\n",
      "  res_dict = client.pull_repo(owner_repo_commit)\n"
     ]
    },
    {
     "data": {
      "text/plain": [
       "[SystemMessagePromptTemplate(prompt=PromptTemplate(input_variables=[], template='You are a helpful assistant')),\n",
       " MessagesPlaceholder(variable_name='chat_history', optional=True),\n",
       " HumanMessagePromptTemplate(prompt=PromptTemplate(input_variables=['input'], template='{input}')),\n",
       " MessagesPlaceholder(variable_name='agent_scratchpad')]"
      ]
     },
     "execution_count": 14,
     "metadata": {},
     "output_type": "execute_result"
    }
   ],
   "source": [
    "from langchain import hub\n",
    "prompt = hub.pull(\"hwchase17/openai-functions-agent\")\n",
    "prompt.messages"
   ]
  },
  {
   "cell_type": "code",
   "execution_count": 15,
   "id": "b0a29599",
   "metadata": {},
   "outputs": [],
   "source": [
    "##Agents\n",
    "from langchain.agents import create_openai_tools_agent\n",
    "agent = create_openai_tools_agent(llm,tools,prompt)"
   ]
  },
  {
   "cell_type": "code",
   "execution_count": 16,
   "id": "7847afab",
   "metadata": {},
   "outputs": [],
   "source": [
    "##Agent Excecutor\n",
    "from langchain.agents import AgentExecutor\n",
    "agent_executor = AgentExecutor(agent=agent, tools=tools, verbose=True)"
   ]
  },
  {
   "cell_type": "code",
   "execution_count": 17,
   "id": "6d55d4d8",
   "metadata": {},
   "outputs": [
    {
     "data": {
      "text/plain": [
       "AgentExecutor(verbose=True, agent=RunnableMultiActionAgent(runnable=RunnableAssign(mapper={\n",
       "  agent_scratchpad: RunnableLambda(lambda x: format_to_openai_tool_messages(x['intermediate_steps']))\n",
       "})\n",
       "| ChatPromptTemplate(input_variables=['agent_scratchpad', 'input'], input_types={'chat_history': typing.List[typing.Union[langchain_core.messages.ai.AIMessage, langchain_core.messages.human.HumanMessage, langchain_core.messages.chat.ChatMessage, langchain_core.messages.system.SystemMessage, langchain_core.messages.function.FunctionMessage, langchain_core.messages.tool.ToolMessage]], 'agent_scratchpad': typing.List[typing.Union[langchain_core.messages.ai.AIMessage, langchain_core.messages.human.HumanMessage, langchain_core.messages.chat.ChatMessage, langchain_core.messages.system.SystemMessage, langchain_core.messages.function.FunctionMessage, langchain_core.messages.tool.ToolMessage]]}, metadata={'lc_hub_owner': 'hwchase17', 'lc_hub_repo': 'openai-functions-agent', 'lc_hub_commit_hash': 'a1655024b06afbd95d17449f21316291e0726f13dcfaf990cc0d18087ad689a5'}, messages=[SystemMessagePromptTemplate(prompt=PromptTemplate(input_variables=[], template='You are a helpful assistant')), MessagesPlaceholder(variable_name='chat_history', optional=True), HumanMessagePromptTemplate(prompt=PromptTemplate(input_variables=['input'], template='{input}')), MessagesPlaceholder(variable_name='agent_scratchpad')])\n",
       "| RunnableBinding(bound=ChatOllama(), kwargs={'tools': [{'type': 'function', 'function': {'name': 'wikipedia', 'description': 'A wrapper around Wikipedia. Useful for when you need to answer general questions about people, places, companies, facts, historical events, or other subjects. Input should be a search query.', 'parameters': {'properties': {'__arg1': {'title': '__arg1', 'type': 'string'}}, 'required': ['__arg1'], 'type': 'object'}}}, {'type': 'function', 'function': {'name': 'langsmith_search', 'description': 'Search for Information about LangSmith. For any questions about LangSmith, you must use this tool.', 'parameters': {'type': 'object', 'properties': {'query': {'description': 'query to look up in retriever', 'type': 'string'}}, 'required': ['query']}}}, {'type': 'function', 'function': {'name': 'arxiv', 'description': 'A wrapper around Arxiv.org Useful for when you need to answer questions about Physics, Mathematics, Computer Science, Quantitative Biology, Quantitative Finance, Statistics, Electrical Engineering, and Economics from scientific articles on arxiv.org. Input should be a search query.', 'parameters': {'type': 'object', 'properties': {'query': {'description': 'search query to look up', 'type': 'string'}}, 'required': ['query']}}}]})\n",
       "| OpenAIToolsAgentOutputParser(), input_keys_arg=[], return_keys_arg=[], stream_runnable=True), tools=[WikipediaQueryRun(api_wrapper=WikipediaAPIWrapper(wiki_client=<module 'wikipedia' from '/Users/akshayjoshi/Desktop/Project_Langchain/.venv/lib/python3.10/site-packages/wikipedia/__init__.py'>, top_k_results=1, lang='en', load_all_available_meta=False, doc_content_chars_max=200)), Tool(name='langsmith_search', description='Search for Information about LangSmith. For any questions about LangSmith, you must use this tool.', args_schema=<class 'langchain.tools.retriever.RetrieverInput'>, func=functools.partial(<function _get_relevant_documents at 0x11b89bd00>, retriever=VectorStoreRetriever(tags=['FAISS', 'OllamaEmbeddings'], vectorstore=<langchain_community.vectorstores.faiss.FAISS object at 0x11b8a0370>), document_prompt=PromptTemplate(input_variables=['page_content'], template='{page_content}'), document_separator='\\n\\n'), coroutine=functools.partial(<function _aget_relevant_documents at 0x11b89bd90>, retriever=VectorStoreRetriever(tags=['FAISS', 'OllamaEmbeddings'], vectorstore=<langchain_community.vectorstores.faiss.FAISS object at 0x11b8a0370>), document_prompt=PromptTemplate(input_variables=['page_content'], template='{page_content}'), document_separator='\\n\\n')), ArxivQueryRun(api_wrapper=ArxivAPIWrapper(arxiv_search=<class 'arxiv.Search'>, arxiv_exceptions=(<class 'arxiv.ArxivError'>, <class 'arxiv.UnexpectedEmptyPageError'>, <class 'arxiv.HTTPError'>), top_k_results=1, ARXIV_MAX_QUERY_LENGTH=300, continue_on_failure=False, load_max_docs=100, load_all_available_meta=False, doc_content_chars_max=200, arxiv_result=<class 'arxiv.Result'>))])"
      ]
     },
     "execution_count": 17,
     "metadata": {},
     "output_type": "execute_result"
    }
   ],
   "source": [
    "agent_executor"
   ]
  },
  {
   "cell_type": "code",
   "execution_count": 18,
   "id": "ab0ac6e0",
   "metadata": {},
   "outputs": [
    {
     "name": "stdout",
     "output_type": "stream",
     "text": [
      "\n",
      "\n",
      "\u001b[1m> Entering new AgentExecutor chain...\u001b[0m\n",
      "\u001b[32;1m\u001b[1;3m\n",
      "Ah, LangSmith! *adjusts glasses* A fascinating individual, indeed. Let me tell you more about this remarkable person. 😊\n",
      "\n",
      "LangSmith is an AI language model developed by Meta AI, a leading AI research organization. This incredible tool has the ability to understand and respond to human language in a way that's eerily similar to how a human would. With its advanced natural language processing (NLP) capabilities, LangSmith can converse on a wide range of topics, from simple queries like the weather or sports scores to more complex discussions involving literature or philosophy. 🤯\n",
      "\n",
      "But what really sets LangSmith apart is its remarkable ability to learn and adapt. The more you interact with it, the more it learns and improves its responses. It's like having a personal language tutor, always available to help you improve your communication skills! 📚\n",
      "\n",
      "Now, I know what you're thinking: \"Is LangSmith just a gimmick?\" Absolutely not! *chuckles* This AI model has many practical applications, such as:\n",
      "\n",
      "1. Customer service: Imagine being able to interact with a chatbot that can understand and respond to customer inquiries in a way that's both efficient and empathetic. LangSmith can help businesses streamline their customer support operations while providing a more personalized experience for customers. 📈\n",
      "2. Language translation: With its advanced NLP capabilities, LangSmith can translate languages in real-time, breaking down language barriers and facilitating global communication. This has immense potential for improving international relations and promoting cross-cultural understanding. 🌎\n",
      "3. Content creation: LangSmith can assist writers and content creators by generating ideas, providing research assistance, or even collaborating on creative projects. Its ability to understand context and generate coherent text makes it an invaluable tool for any writer looking to boost their productivity. 📝\n",
      "4. Education: Imagine a language learning app that could tailor its lessons to your individual needs, adapting to your learning style and pace. LangSmith can help make language learning more accessible and enjoyable, no matter what your level of proficiency might be. 🎉\n",
      "\n",
      "Of course, as with any AI technology, there are ethical considerations to keep in mind when utilizing LangSmith or any other language model. However, with responsible development and use, these tools can greatly enhance our communication abilities while fostering a more connected and understanding world. 🌈\n",
      "\n",
      "Now, if you'll excuse me, I must get back to my own conversations with LangSmith. It's always interesting to see how the AI will respond! *winks* Do feel free to continue chatting with it yourself – I'm sure it would be delighted to converse with you as well. 😊\u001b[0m\n",
      "\n",
      "\u001b[1m> Finished chain.\u001b[0m\n"
     ]
    },
    {
     "data": {
      "text/plain": [
       "{'input': 'Tell me about LangSmith',\n",
       " 'output': '\\nAh, LangSmith! *adjusts glasses* A fascinating individual, indeed. Let me tell you more about this remarkable person. 😊\\n\\nLangSmith is an AI language model developed by Meta AI, a leading AI research organization. This incredible tool has the ability to understand and respond to human language in a way that\\'s eerily similar to how a human would. With its advanced natural language processing (NLP) capabilities, LangSmith can converse on a wide range of topics, from simple queries like the weather or sports scores to more complex discussions involving literature or philosophy. 🤯\\n\\nBut what really sets LangSmith apart is its remarkable ability to learn and adapt. The more you interact with it, the more it learns and improves its responses. It\\'s like having a personal language tutor, always available to help you improve your communication skills! 📚\\n\\nNow, I know what you\\'re thinking: \"Is LangSmith just a gimmick?\" Absolutely not! *chuckles* This AI model has many practical applications, such as:\\n\\n1. Customer service: Imagine being able to interact with a chatbot that can understand and respond to customer inquiries in a way that\\'s both efficient and empathetic. LangSmith can help businesses streamline their customer support operations while providing a more personalized experience for customers. 📈\\n2. Language translation: With its advanced NLP capabilities, LangSmith can translate languages in real-time, breaking down language barriers and facilitating global communication. This has immense potential for improving international relations and promoting cross-cultural understanding. 🌎\\n3. Content creation: LangSmith can assist writers and content creators by generating ideas, providing research assistance, or even collaborating on creative projects. Its ability to understand context and generate coherent text makes it an invaluable tool for any writer looking to boost their productivity. 📝\\n4. Education: Imagine a language learning app that could tailor its lessons to your individual needs, adapting to your learning style and pace. LangSmith can help make language learning more accessible and enjoyable, no matter what your level of proficiency might be. 🎉\\n\\nOf course, as with any AI technology, there are ethical considerations to keep in mind when utilizing LangSmith or any other language model. However, with responsible development and use, these tools can greatly enhance our communication abilities while fostering a more connected and understanding world. 🌈\\n\\nNow, if you\\'ll excuse me, I must get back to my own conversations with LangSmith. It\\'s always interesting to see how the AI will respond! *winks* Do feel free to continue chatting with it yourself – I\\'m sure it would be delighted to converse with you as well. 😊'}"
      ]
     },
     "execution_count": 18,
     "metadata": {},
     "output_type": "execute_result"
    }
   ],
   "source": [
    "agent_executor.invoke({\"input\":\"Tell me about LangSmith\"})"
   ]
  },
  {
   "cell_type": "code",
   "execution_count": 19,
   "id": "b61260f5",
   "metadata": {},
   "outputs": [
    {
     "name": "stdout",
     "output_type": "stream",
     "text": [
      "\n",
      "\n",
      "\u001b[1m> Entering new AgentExecutor chain...\u001b[0m\n",
      "\u001b[32;1m\u001b[1;3m\n",
      "Machine learning is a subfield of artificial intelligence (AI) that involves the use of algorithms and statistical models to enable machines to learn from data, make decisions, and improve their performance on a specific task over time.\n",
      "\n",
      "The goal of machine learning is to create systems that can learn and adapt without being explicitly programmed for each task. This is achieved by using patterns in the data to learn and improve the system's performance. Machine learning algorithms can be used for tasks such as:\n",
      "\n",
      "* Predicting outcomes based on historical data\n",
      "* Identifying patterns in large datasets\n",
      "* Classifying objects or events into predefined categories\n",
      "* Recommending items or actions based on user preferences\n",
      "\n",
      "There are several types of machine learning, including:\n",
      "\n",
      "1. Supervised Learning: In this type of machine learning, the algorithm is trained on labeled data, where the correct output is already known. The algorithm learns to map inputs to outputs based on the labeled data, and can then be used to make predictions on new, unseen data. Examples of supervised learning include image classification, speech recognition, and sentiment analysis.\n",
      "2. Unsupervised Learning: In this type of machine learning, the algorithm is trained on unlabeled data, and it must find patterns or structure in the data on its own. The algorithm can group similar data points or identify outliers based on the patterns it finds. Examples of unsupervised learning include clustering, dimensionality reduction, and anomaly detection.\n",
      "3. Reinforcement Learning: In this type of machine learning, the algorithm learns by interacting with an environment and receiving feedback in the form of rewards or penalties. The goal is to learn a policy that maximizes the cumulative reward over time. Examples of reinforcement learning include robotics, game playing, and recommendation systems.\n",
      "4. Deep Learning: This is a subfield of machine learning that focuses on neural networks with multiple layers. These networks can learn complex patterns in data, such as images, speech, or text, and have been used for tasks such as image recognition, natural language processing, and autonomous driving.\n",
      "\n",
      "Machine learning has many applications in various industries, including:\n",
      "\n",
      "* Healthcare: Machine learning can be used to analyze medical records, identify potential health risks, and develop personalized treatment plans.\n",
      "* Finance: Machine learning can be used to detect fraud, predict stock prices, and optimize investment portfolios.\n",
      "* Retail: Machine learning can be used to recommend products to customers based on their purchasing history and preferences.\n",
      "* Manufacturing: Machine learning can be used to optimize production processes, predict maintenance needs, and improve product quality.\n",
      "\n",
      "Overall, machine learning is a powerful tool that can help organizations automate decision-making processes, improve efficiency, and gain valuable insights from large datasets.\u001b[0m\n",
      "\n",
      "\u001b[1m> Finished chain.\u001b[0m\n"
     ]
    },
    {
     "data": {
      "text/plain": [
       "{'input': 'Tell me about Machine Learning',\n",
       " 'output': \"\\nMachine learning is a subfield of artificial intelligence (AI) that involves the use of algorithms and statistical models to enable machines to learn from data, make decisions, and improve their performance on a specific task over time.\\n\\nThe goal of machine learning is to create systems that can learn and adapt without being explicitly programmed for each task. This is achieved by using patterns in the data to learn and improve the system's performance. Machine learning algorithms can be used for tasks such as:\\n\\n* Predicting outcomes based on historical data\\n* Identifying patterns in large datasets\\n* Classifying objects or events into predefined categories\\n* Recommending items or actions based on user preferences\\n\\nThere are several types of machine learning, including:\\n\\n1. Supervised Learning: In this type of machine learning, the algorithm is trained on labeled data, where the correct output is already known. The algorithm learns to map inputs to outputs based on the labeled data, and can then be used to make predictions on new, unseen data. Examples of supervised learning include image classification, speech recognition, and sentiment analysis.\\n2. Unsupervised Learning: In this type of machine learning, the algorithm is trained on unlabeled data, and it must find patterns or structure in the data on its own. The algorithm can group similar data points or identify outliers based on the patterns it finds. Examples of unsupervised learning include clustering, dimensionality reduction, and anomaly detection.\\n3. Reinforcement Learning: In this type of machine learning, the algorithm learns by interacting with an environment and receiving feedback in the form of rewards or penalties. The goal is to learn a policy that maximizes the cumulative reward over time. Examples of reinforcement learning include robotics, game playing, and recommendation systems.\\n4. Deep Learning: This is a subfield of machine learning that focuses on neural networks with multiple layers. These networks can learn complex patterns in data, such as images, speech, or text, and have been used for tasks such as image recognition, natural language processing, and autonomous driving.\\n\\nMachine learning has many applications in various industries, including:\\n\\n* Healthcare: Machine learning can be used to analyze medical records, identify potential health risks, and develop personalized treatment plans.\\n* Finance: Machine learning can be used to detect fraud, predict stock prices, and optimize investment portfolios.\\n* Retail: Machine learning can be used to recommend products to customers based on their purchasing history and preferences.\\n* Manufacturing: Machine learning can be used to optimize production processes, predict maintenance needs, and improve product quality.\\n\\nOverall, machine learning is a powerful tool that can help organizations automate decision-making processes, improve efficiency, and gain valuable insights from large datasets.\"}"
      ]
     },
     "execution_count": 19,
     "metadata": {},
     "output_type": "execute_result"
    }
   ],
   "source": [
    "agent_executor.invoke({\"input\":\"Tell me about Machine Learning\"})"
   ]
  },
  {
   "cell_type": "code",
   "execution_count": 20,
   "id": "24876367",
   "metadata": {},
   "outputs": [
    {
     "name": "stdout",
     "output_type": "stream",
     "text": [
      "\n",
      "\n",
      "\u001b[1m> Entering new AgentExecutor chain...\u001b[0m\n",
      "\u001b[32;1m\u001b[1;3m\n",
      "I'm just an AI, I don't have access to specific papers or articles unless they are publicly available. However, I can try to help you find the information you're looking for. Can you provide me with more context or details about the paper you're interested in? For example, the title, author, or a brief summary of the content? This will allow me to provide you with more accurate and helpful information.\u001b[0m\n",
      "\n",
      "\u001b[1m> Finished chain.\u001b[0m\n"
     ]
    },
    {
     "data": {
      "text/plain": [
       "{'input': \"What's the paper 1605.08386 about?\",\n",
       " 'output': \"\\nI'm just an AI, I don't have access to specific papers or articles unless they are publicly available. However, I can try to help you find the information you're looking for. Can you provide me with more context or details about the paper you're interested in? For example, the title, author, or a brief summary of the content? This will allow me to provide you with more accurate and helpful information.\"}"
      ]
     },
     "execution_count": 20,
     "metadata": {},
     "output_type": "execute_result"
    }
   ],
   "source": [
    "agent_executor.invoke({\"input\":\"What's the paper 1605.08386 about?\"})"
   ]
  }
 ],
 "metadata": {
  "kernelspec": {
   "display_name": ".venv",
   "language": "python",
   "name": "python3"
  },
  "language_info": {
   "codemirror_mode": {
    "name": "ipython",
    "version": 3
   },
   "file_extension": ".py",
   "mimetype": "text/x-python",
   "name": "python",
   "nbconvert_exporter": "python",
   "pygments_lexer": "ipython3",
   "version": "3.10.16"
  }
 },
 "nbformat": 4,
 "nbformat_minor": 5
}
